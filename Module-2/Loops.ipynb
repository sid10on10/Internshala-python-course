{
 "cells": [
  {
   "cell_type": "code",
   "execution_count": 12,
   "metadata": {},
   "outputs": [
    {
     "name": "stdout",
     "output_type": "stream",
     "text": [
      "x+y hello world\n",
      "hello world 42.7000 2\n"
     ]
    }
   ],
   "source": [
    "x =2\n",
    "string = \"hello world\"\n",
    "digit = x\n",
    "if x==2:\n",
    "    print(\"x+y %s\" % string)\n",
    "print(\"%s %1.4f %d\" % (string, 42.7, digit))"
   ]
  },
  {
   "cell_type": "code",
   "execution_count": 16,
   "metadata": {},
   "outputs": [
    {
     "name": "stdout",
     "output_type": "stream",
     "text": [
      "10\n",
      "12\n",
      "14\n",
      "16\n",
      "18\n",
      "20\n"
     ]
    }
   ],
   "source": [
    "for x in range(10,21,2):  # here goes till 20 with each step of 2\n",
    "    print(x)\n",
    "print(\"End of sequence\")"
   ]
  },
  {
   "cell_type": "code",
   "execution_count": 15,
   "metadata": {},
   "outputs": [
    {
     "name": "stdout",
     "output_type": "stream",
     "text": [
      "i\n",
      "n\n",
      "t\n",
      "e\n",
      "r\n",
      "n\n",
      "s\n",
      "h\n",
      "a\n",
      "l\n",
      "a\n"
     ]
    }
   ],
   "source": [
    "for char in \"internshala\": # iterating through strings\n",
    "    print(char)"
   ]
  },
  {
   "cell_type": "code",
   "execution_count": 27,
   "metadata": {},
   "outputs": [
    {
     "name": "stdout",
     "output_type": "stream",
     "text": [
      "average of numbers is 35.0\n"
     ]
    }
   ],
   "source": [
    "total = 0 # iterating over string\n",
    "num = [10,20,30,40,50,60]\n",
    "for i in num:\n",
    "    total = total+i\n",
    "average = total/len(num)\n",
    "print(\"average of numbers is\", average) # important print"
   ]
  },
  {
   "cell_type": "code",
   "execution_count": 29,
   "metadata": {},
   "outputs": [
    {
     "name": "stdout",
     "output_type": "stream",
     "text": [
      "hello\n",
      "world\n",
      "is\n",
      "45\n"
     ]
    }
   ],
   "source": [
    "data = (\"hello\", \"world\", \"is\", 45) #iterating in tuples\n",
    "for each in data:\n",
    "    print(each)"
   ]
  },
  {
   "cell_type": "code",
   "execution_count": 47,
   "metadata": {},
   "outputs": [
    {
     "name": "stdout",
     "output_type": "stream",
     "text": [
      "shit happens\n",
      "0\n",
      "revenge\n",
      "----------------------------\n",
      "('USA', 'shit happens')\n",
      "('INDIA', 0)\n",
      "('CHINA', 'revenge')\n",
      "----------------------------\n",
      "USA shit happens\n",
      "INDIA 0\n",
      "CHINA revenge\n",
      "----------------------------\n",
      "USA\n",
      "shit happens\n",
      "INDIA\n",
      "0\n",
      "CHINA\n",
      "revenge\n",
      "----------------------------\n"
     ]
    }
   ],
   "source": [
    "data1 = {\"USA\":\"shit happens\", \"INDIA\":0, \"CHINA\":\"revenge\"} # iterating in a dictionary\n",
    "for each in data1.values():\n",
    "    print(each)\n",
    "print(\"----------------------------\")\n",
    "for each in data1.items():          # returns tuple \n",
    "    print(each)\n",
    "print(\"----------------------------\")\n",
    "for each in data1.keys():\n",
    "    print(each, data1.get(each))    # print key value pairs\n",
    "print(\"----------------------------\")\n",
    "for each in data1.items():\n",
    "    for i in each:                  # iterating through tuple\n",
    "        print(i)\n",
    "print(\"----------------------------\")"
   ]
  },
  {
   "cell_type": "code",
   "execution_count": 45,
   "metadata": {},
   "outputs": [
    {
     "data": {
      "text/plain": [
       "dict_items([('USA', 'shit happens'), ('INDIA', 0), ('CHINA', 'revenge')])"
      ]
     },
     "execution_count": 45,
     "metadata": {},
     "output_type": "execute_result"
    }
   ],
   "source": [
    "data1.items()"
   ]
  },
  {
   "cell_type": "code",
   "execution_count": 48,
   "metadata": {},
   "outputs": [
    {
     "data": {
      "text/plain": [
       "dict_keys(['USA', 'INDIA', 'CHINA'])"
      ]
     },
     "execution_count": 48,
     "metadata": {},
     "output_type": "execute_result"
    }
   ],
   "source": [
    "data1.keys()"
   ]
  },
  {
   "cell_type": "code",
   "execution_count": 51,
   "metadata": {},
   "outputs": [
    {
     "name": "stdout",
     "output_type": "stream",
     "text": [
      "this is iteration no. 1 in the for loop\n",
      "this is iteration no. 2 in the for loop\n",
      "this is iteration no. 3 in the for loop\n",
      "this is iteration no. 4 in the for loop\n",
      "This is else block in the loop\n",
      "Now the loop ends\n"
     ]
    }
   ],
   "source": [
    "for x in range(1,5):\n",
    "    print(\"this is iteration no. {} in the for loop\".format(x))\n",
    "else:\n",
    "    print(\"This is else block in the loop\")\n",
    "print(\"Now the loop ends\")\n",
    "\n",
    "# similarly with while loop"
   ]
  },
  {
   "cell_type": "code",
   "execution_count": 46,
   "metadata": {},
   "outputs": [
    {
     "name": "stdout",
     "output_type": "stream",
     "text": [
      "input a number4\n",
      "the factorial of 4 is 24\n"
     ]
    }
   ],
   "source": [
    "#factorial understand this code fully\n",
    "num = int(input(\"input a number\"))\n",
    "fact = 1\n",
    "for i in range(1,num+1):\n",
    "    fact = fact*i\n",
    "    \n",
    "print(\"the factorial of {} is {}\".format(num,fact))"
   ]
  },
  {
   "cell_type": "code",
   "execution_count": null,
   "metadata": {},
   "outputs": [],
   "source": []
  }
 ],
 "metadata": {
  "kernelspec": {
   "display_name": "Python 3",
   "language": "python",
   "name": "python3"
  },
  "language_info": {
   "codemirror_mode": {
    "name": "ipython",
    "version": 3
   },
   "file_extension": ".py",
   "mimetype": "text/x-python",
   "name": "python",
   "nbconvert_exporter": "python",
   "pygments_lexer": "ipython3",
   "version": "3.6.5"
  }
 },
 "nbformat": 4,
 "nbformat_minor": 2
}
