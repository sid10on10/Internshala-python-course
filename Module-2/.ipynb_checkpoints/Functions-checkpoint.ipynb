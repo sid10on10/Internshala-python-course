{
 "cells": [
  {
   "cell_type": "code",
   "execution_count": 8,
   "metadata": {},
   "outputs": [
    {
     "name": "stdout",
     "output_type": "stream",
     "text": [
      "Looking Slughorn straight in the eye, Siddhant leant forwards a little.\n",
      "'I am the Chosen One. I have to kill Voldemort. I need that memory.'\n",
      "'You are the Chosen One?'\n",
      "'Of course I am,' said Siddhant calmly.\n"
     ]
    }
   ],
   "source": [
    "def IPotter():\n",
    "    \"This function morphs anyone into Harry Potter!\"\n",
    "    name=\"Siddhant\"\n",
    "    str = \"Looking Slughorn straight in the eye, Harry leant forwards a little.\\n'I am the Chosen One. I have to kill Voldemort. I need that memory.'\\n'You are the Chosen One?'\\n'Of course I am,' said Harry calmly.\"\n",
    "    print(str.replace(\"Harry\", name))\n",
    "    return #return is not necessary for a function see below\n",
    "\n",
    "IPotter()"
   ]
  },
  {
   "cell_type": "code",
   "execution_count": 2,
   "metadata": {},
   "outputs": [
    {
     "name": "stdout",
     "output_type": "stream",
     "text": [
      "Welcome to Internshala's online training on Programming with Python.\n"
     ]
    }
   ],
   "source": [
    "def SayHello():\n",
    "     #\"This function will display a greeting message.\"\n",
    "    print (\"Welcome to Internshala's online training on Programming with Python.\")\n",
    "\n",
    "SayHello()"
   ]
  },
  {
   "cell_type": "code",
   "execution_count": 10,
   "metadata": {},
   "outputs": [
    {
     "name": "stdout",
     "output_type": "stream",
     "text": [
      "Gift money from family4500\n",
      "Enter the money from savings4500\n",
      "Enter the money form internship10000\n",
      "yeah you can buy smartphone right now\n"
     ]
    }
   ],
   "source": [
    "def verdict(m1,m2,m3): # formal - m1,m2,m3 and actual arguments - gift, saving and internship\n",
    "    total = m1+m2+m3\n",
    "    if total>15000:\n",
    "        print(\"yeah you can buy smartphone right now\")\n",
    "    else:\n",
    "        print(\"this is not the right time to buy smartphone\")\n",
    "\n",
    "gift = int(input(\"Gift money from family\"))\n",
    "saving = int(input(\"Enter the money from savings\"))\n",
    "internship = int(input(\"Enter the money form internship\"))\n",
    "\n",
    "verdict(gift,saving,internship)"
   ]
  },
  {
   "cell_type": "code",
   "execution_count": 11,
   "metadata": {},
   "outputs": [
    {
     "name": "stdout",
     "output_type": "stream",
     "text": [
      "Gift money from family5000\n",
      "Enter the money from savings5000\n",
      "Enter the money form internship6000\n",
      "yeah you can buy smartphone right now\n"
     ]
    }
   ],
   "source": [
    "def verdict(m1,m2,m3,m4=15000): # m4-->default argument---Since m1,m2,m3 are specified in the definition of the function, they are formal arguments\n",
    "    total = m1+m2+m3\n",
    "    if total>m4:\n",
    "        print(\"yeah you can buy smartphone right now\")\n",
    "    else:\n",
    "        print(\"this is not the right time to buy smartphone\")\n",
    "\n",
    "gift = int(input(\"Gift money from family\"))\n",
    "saving = int(input(\"Enter the money from savings\"))\n",
    "internship = int(input(\"Enter the money form internship\"))\n",
    "\n",
    "verdict(gift,saving,internship)"
   ]
  },
  {
   "cell_type": "code",
   "execution_count": 13,
   "metadata": {},
   "outputs": [
    {
     "name": "stdout",
     "output_type": "stream",
     "text": [
      "Gift money from family3000\n",
      "Enter the money from savings3000\n",
      "Enter the money form internship5000\n",
      "yeah you can buy smartphone right now\n"
     ]
    }
   ],
   "source": [
    "def verdict(m1,m2,m3,m4=15000): # default argument must be declared after required arguments\n",
    "    total = m1+m2+m3\n",
    "    if total>m4:\n",
    "        print(\"yeah you can buy smartphone right now\")\n",
    "    else:\n",
    "        print(\"this is not the right time to buy smartphone\")\n",
    "\n",
    "gift = int(input(\"Gift money from family\"))\n",
    "saving = int(input(\"Enter the money from savings\"))\n",
    "internship = int(input(\"Enter the money form internship\"))\n",
    "\n",
    "verdict(gift,saving,internship,10000) # explicit value takes over default value"
   ]
  },
  {
   "cell_type": "code",
   "execution_count": 17,
   "metadata": {},
   "outputs": [
    {
     "name": "stdout",
     "output_type": "stream",
     "text": [
      "your Google phone with ram raam\n"
     ]
    }
   ],
   "source": [
    "def Myphone(brand,ram):\n",
    "    print(\"your {} phone with ram {}\".format(brand,ram))\n",
    "    return\n",
    "Myphone(\"Google\",\"raam\")"
   ]
  },
  {
   "cell_type": "code",
   "execution_count": 19,
   "metadata": {},
   "outputs": [
    {
     "name": "stdout",
     "output_type": "stream",
     "text": [
      "your Google phone with ram 6\n"
     ]
    }
   ],
   "source": [
    "def Myphone(brand,ram):\n",
    "    print(\"your {:s} phone with ram {:d}\".format(brand,ram))\n",
    "    return\n",
    "Myphone(\"Google\",6)"
   ]
  },
  {
   "cell_type": "code",
   "execution_count": 20,
   "metadata": {},
   "outputs": [
    {
     "name": "stdout",
     "output_type": "stream",
     "text": [
      "your Google phone with ram 6\n"
     ]
    }
   ],
   "source": [
    "# also we can run function by using formal arguments as keywords while calling the function\n",
    "Myphone(ram=6,brand=\"Google\")"
   ]
  },
  {
   "cell_type": "code",
   "execution_count": null,
   "metadata": {},
   "outputs": [],
   "source": []
  }
 ],
 "metadata": {
  "kernelspec": {
   "display_name": "Python 3",
   "language": "python",
   "name": "python3"
  },
  "language_info": {
   "codemirror_mode": {
    "name": "ipython",
    "version": 3
   },
   "file_extension": ".py",
   "mimetype": "text/x-python",
   "name": "python",
   "nbconvert_exporter": "python",
   "pygments_lexer": "ipython3",
   "version": "3.6.5"
  }
 },
 "nbformat": 4,
 "nbformat_minor": 2
}
