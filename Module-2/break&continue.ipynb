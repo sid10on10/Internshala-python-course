{
 "cells": [
  {
   "cell_type": "code",
   "execution_count": 2,
   "metadata": {},
   "outputs": [
    {
     "name": "stdout",
     "output_type": "stream",
     "text": [
      "This is number 14\n",
      "This is number 13\n",
      "This is number 12\n",
      "This is number 11\n"
     ]
    }
   ],
   "source": [
    "num = 14\n",
    "while num > 0:\n",
    "    print(\"This is number {}\".format(num))\n",
    "    num = num - 1\n",
    "    if num == 10:\n",
    "        break"
   ]
  },
  {
   "cell_type": "code",
   "execution_count": 10,
   "metadata": {},
   "outputs": [
    {
     "name": "stdout",
     "output_type": "stream",
     "text": [
      "Enter the no.11\n",
      "the number is prime\n"
     ]
    }
   ],
   "source": [
    "num = int(input(\"Enter the no.\"))\n",
    "\n",
    "for i in range(2,num): # range num not num+1 as for prime\n",
    "    if num%i==0:\n",
    "        print(\"{} Not prime\".format(num))\n",
    "        break\n",
    "    i = i+1\n",
    "else:\n",
    "    print(\"the number is prime\") # for else loop"
   ]
  },
  {
   "cell_type": "code",
   "execution_count": 12,
   "metadata": {},
   "outputs": [
    {
     "name": "stdout",
     "output_type": "stream",
     "text": [
      "Enter the no.60\n",
      "2\n",
      "2\n",
      "3\n",
      "5\n"
     ]
    }
   ],
   "source": [
    "num = int(input(\"Enter the no.\"))\n",
    "d=2\n",
    "while num>1:\n",
    "    if num%d==0:\n",
    "        print(d)\n",
    "        num = num/d\n",
    "        continue\n",
    "    d = d+1"
   ]
  }
 ],
 "metadata": {
  "kernelspec": {
   "display_name": "Python 3",
   "language": "python",
   "name": "python3"
  },
  "language_info": {
   "codemirror_mode": {
    "name": "ipython",
    "version": 3
   },
   "file_extension": ".py",
   "mimetype": "text/x-python",
   "name": "python",
   "nbconvert_exporter": "python",
   "pygments_lexer": "ipython3",
   "version": "3.6.5"
  }
 },
 "nbformat": 4,
 "nbformat_minor": 2
}
