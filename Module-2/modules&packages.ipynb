{
 "cells": [
  {
   "cell_type": "code",
   "execution_count": null,
   "metadata": {},
   "outputs": [],
   "source": [
    "# creating a setup file setup.py inside first subfolder\n",
    "from setuptools import setup\n",
    "\n",
    "setup(name='MyFriends', version='1.0', description='A package to calculate expenses when you hang-out with friends.',\n",
    "url='#',\n",
    "      author='internshala',\n",
    "author_email='internshala@internshala.com',\n",
    "      license='MIT',\n",
    "      packages=['MyFriends'],\n",
    "zip_safe=False)\n"
   ]
  },
  {
   "cell_type": "code",
   "execution_count": null,
   "metadata": {},
   "outputs": [],
   "source": [
    "# module "
   ]
  }
 ],
 "metadata": {
  "kernelspec": {
   "display_name": "Python 3",
   "language": "python",
   "name": "python3"
  },
  "language_info": {
   "codemirror_mode": {
    "name": "ipython",
    "version": 3
   },
   "file_extension": ".py",
   "mimetype": "text/x-python",
   "name": "python",
   "nbconvert_exporter": "python",
   "pygments_lexer": "ipython3",
   "version": "3.6.5"
  }
 },
 "nbformat": 4,
 "nbformat_minor": 2
}
