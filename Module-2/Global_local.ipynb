{
 "cells": [
  {
   "cell_type": "code",
   "execution_count": 4,
   "metadata": {},
   "outputs": [
    {
     "name": "stdout",
     "output_type": "stream",
     "text": [
      "Internshala\n"
     ]
    },
    {
     "ename": "NameError",
     "evalue": "name 'tags' is not defined",
     "output_type": "error",
     "traceback": [
      "\u001b[0;31m---------------------------------------------------------------------------\u001b[0m",
      "\u001b[0;31mNameError\u001b[0m                                 Traceback (most recent call last)",
      "\u001b[0;32m<ipython-input-4-c1b7c1eb3514>\u001b[0m in \u001b[0;36m<module>\u001b[0;34m()\u001b[0m\n\u001b[1;32m      4\u001b[0m     \u001b[0;32mreturn\u001b[0m\u001b[0;34m\u001b[0m\u001b[0m\n\u001b[1;32m      5\u001b[0m \u001b[0ma\u001b[0m\u001b[0;34m(\u001b[0m\u001b[0;34m)\u001b[0m\u001b[0;34m\u001b[0m\u001b[0m\n\u001b[0;32m----> 6\u001b[0;31m \u001b[0mprint\u001b[0m\u001b[0;34m(\u001b[0m\u001b[0mtags\u001b[0m\u001b[0;34m)\u001b[0m\u001b[0;31m# tags is local variable\u001b[0m\u001b[0;34m\u001b[0m\u001b[0m\n\u001b[0m",
      "\u001b[0;31mNameError\u001b[0m: name 'tags' is not defined"
     ]
    }
   ],
   "source": [
    "def a():\n",
    "    tags = \"Internshala\"\n",
    "    print(tags)\n",
    "    return\n",
    "a()\n",
    "print(tags)# tags is local variable\n"
   ]
  },
  {
   "cell_type": "code",
   "execution_count": 8,
   "metadata": {},
   "outputs": [
    {
     "name": "stdout",
     "output_type": "stream",
     "text": [
      "12\n",
      "Outside the function 7\n"
     ]
    }
   ],
   "source": [
    "age = 7\n",
    "def a():\n",
    "    age = 12\n",
    "    print(age)\n",
    "    return\n",
    "a() # inside a local variable \n",
    "print(\"Outside the function\", age)# age is global variable"
   ]
  },
  {
   "cell_type": "code",
   "execution_count": 9,
   "metadata": {},
   "outputs": [
    {
     "name": "stdout",
     "output_type": "stream",
     "text": [
      "12\n",
      "Outside the function 12\n"
     ]
    }
   ],
   "source": [
    "age = 7\n",
    "def a():\n",
    "    global age\n",
    "    age = 12\n",
    "    print(age)\n",
    "    return\n",
    "a() # inside a local variable \n",
    "print(\"Outside the function\", age)# age is global variable"
   ]
  },
  {
   "cell_type": "code",
   "execution_count": 3,
   "metadata": {},
   "outputs": [
    {
     "data": {
      "text/plain": [
       "5"
      ]
     },
     "execution_count": 3,
     "metadata": {},
     "output_type": "execute_result"
    }
   ],
   "source": [
    "alpha=1\n",
    "beta=2\n",
    "gamma=3\n",
    "#print(globals())\n",
    "globals()['gamma']=5\n",
    "gamma"
   ]
  },
  {
   "cell_type": "code",
   "execution_count": 14,
   "metadata": {},
   "outputs": [
    {
     "name": "stdout",
     "output_type": "stream",
     "text": [
      "global variable age:  7\n",
      "global variable modified inside function: 27\n",
      "local variable age 11\n",
      "Outside the function 27\n"
     ]
    }
   ],
   "source": [
    "age = 7\n",
    "def a():\n",
    "    print(\"global variable age: \", globals()['age'])\n",
    "    \n",
    "    # now modifying global variable age inside function\n",
    "    \n",
    "    globals()['age']=27\n",
    "    \n",
    "    print('global variable modified inside function:', globals()['age'])\n",
    "    \n",
    "    age = 11\n",
    "    print(\"local variable age\", age)\n",
    "    \n",
    "    return\n",
    "a() # inside a local variable \n",
    "print(\"Outside the function\", age)# age is global variable"
   ]
  },
  {
   "cell_type": "code",
   "execution_count": 15,
   "metadata": {},
   "outputs": [
    {
     "name": "stdout",
     "output_type": "stream",
     "text": [
      "List before passing to function:  id: 4575890824\n"
     ]
    }
   ],
   "source": [
    "\"A variable is Python is a reference to the object memory\"\n",
    "\"So, both formal and actual arguments refer to the same object. The following code snippet will confirm this\"\n",
    "def myfunction(newlist):\n",
    "    print(\"List accessed in function: \", \"id:\", id(newlist))\n",
    "    return\n",
    "mylist=[10,20,30,40,50]\n",
    "print(\"List before passing to function: \", \"id:\", id(mylist))\n"
   ]
  },
  {
   "cell_type": "code",
   "execution_count": 16,
   "metadata": {},
   "outputs": [
    {
     "name": "stdout",
     "output_type": "stream",
     "text": [
      "List accessed in function:  id: 4575890824\n"
     ]
    }
   ],
   "source": [
    "myfunction(mylist)\n"
   ]
  },
  {
   "cell_type": "code",
   "execution_count": null,
   "metadata": {},
   "outputs": [],
   "source": []
  }
 ],
 "metadata": {
  "kernelspec": {
   "display_name": "Python 3",
   "language": "python",
   "name": "python3"
  },
  "language_info": {
   "codemirror_mode": {
    "name": "ipython",
    "version": 3
   },
   "file_extension": ".py",
   "mimetype": "text/x-python",
   "name": "python",
   "nbconvert_exporter": "python",
   "pygments_lexer": "ipython3",
   "version": "3.6.5"
  }
 },
 "nbformat": 4,
 "nbformat_minor": 2
}
