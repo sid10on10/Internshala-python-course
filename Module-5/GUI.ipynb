{
 "cells": [
  {
   "cell_type": "code",
   "execution_count": 1,
   "metadata": {},
   "outputs": [
    {
     "ename": "SystemExit",
     "evalue": "0",
     "output_type": "error",
     "traceback": [
      "An exception has occurred, use %tb to see the full traceback.\n",
      "\u001b[0;31mSystemExit\u001b[0m\u001b[0;31m:\u001b[0m 0\n"
     ]
    },
    {
     "name": "stderr",
     "output_type": "stream",
     "text": [
      "/anaconda3/lib/python3.6/site-packages/IPython/core/interactiveshell.py:2971: UserWarning: To exit: use 'exit', 'quit', or Ctrl-D.\n",
      "  warn(\"To exit: use 'exit', 'quit', or Ctrl-D.\", stacklevel=1)\n"
     ]
    }
   ],
   "source": [
    "from PyQt5.QtWidgets import QMainWindow, QPushButton, QApplication\n",
    "import sys\n",
    "\n",
    "class Example(QMainWindow):\n",
    "\n",
    "    def __init__(self):\n",
    "        super().__init__()\n",
    "        btn = QPushButton(\"Hello World!\", self)\n",
    "        btn.move(50,75)\n",
    "        self.setGeometry(100, 100, 200,150)\n",
    "        self.setWindowTitle('PyQt Window')\n",
    "        self.show()\n",
    "                \n",
    "if __name__ == '__main__':\n",
    "    \n",
    "    app = QApplication(sys.argv)\n",
    "    ex = Example()\n",
    "    sys.exit(app.exec_()) #starts event loop"
   ]
  },
  {
   "cell_type": "code",
   "execution_count": null,
   "metadata": {},
   "outputs": [],
   "source": [
    "#Ms-DOS is a Character-User Interface or CUI-based operating system as commands have to be typed at the prompt.\n",
    "#GUI based applications are designed to be event driven, that is they work when a user does something like click a button, drag the mouse or type into a text box.\n",
    "#Windows is an operating system – it does not have any libraries for developing a GUI toolkit.\n",
    "#The QWidget class is the base class for all user interface objects in the PyQt library.\n",
    "#An object of QApplication class is the application object. Its exec method starts an event loop, \n",
    "  #which is terminated when close button of top level window is pressed."
   ]
  },
  {
   "cell_type": "code",
   "execution_count": null,
   "metadata": {},
   "outputs": [],
   "source": [
    "QT DESIGNER\n",
    "#Each Qt widget is designed to send a 'signal' in response to one or more events such as a click or touch.\n",
    "\n",
    "#The signal on its own does not do anything. Instead, it is ‘connected’ to a ‘slot’. The slot can be a method of any widget class or a Python function that can be called.\n",
    "\n",
    "#The command line utility pyuic5 converts ui files to python script files. \n",
    "   #This utility is a wrapper for the uic module and is installed along with the PyQt5 package."
   ]
  },
  {
   "cell_type": "code",
   "execution_count": null,
   "metadata": {},
   "outputs": [],
   "source": [
    "# Layout managers manage the positioning of widgets inside a container window more elegantly.\n",
    "# In the form layout, widgets can be arranged into two columns.\n",
    "# addLayout() The addLayout method is used to add a child layout to the parent layout.\n",
    "# An absolute layout is not responsive and the controls do not get resized when the main window is resized."
   ]
  },
  {
   "cell_type": "code",
   "execution_count": null,
   "metadata": {},
   "outputs": [],
   "source": [
    "# The QMenubar class contains QMenu and QAction objects.\n",
    "#QMenuBar->QMenu->QAction\n",
    "#The QMenu object emits a triggered signal.\n",
    "#In Qt Designer, the menu can be placed in the QMainWindow form as it has a menu placeholder.\n",
    "  #True, because it doesn’t have a predefined place for menu bar, toolbar and status bar"
   ]
  }
 ],
 "metadata": {
  "kernelspec": {
   "display_name": "Python 3",
   "language": "python",
   "name": "python3"
  },
  "language_info": {
   "codemirror_mode": {
    "name": "ipython",
    "version": 3
   },
   "file_extension": ".py",
   "mimetype": "text/x-python",
   "name": "python",
   "nbconvert_exporter": "python",
   "pygments_lexer": "ipython3",
   "version": "3.6.5"
  }
 },
 "nbformat": 4,
 "nbformat_minor": 2
}
