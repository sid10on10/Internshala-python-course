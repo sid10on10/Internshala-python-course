{
 "cells": [
  {
   "cell_type": "code",
   "execution_count": null,
   "metadata": {},
   "outputs": [],
   "source": [
    "# tables or entities\n",
    "# tables - tuples or record and attributes\n",
    "\n",
    "# primary key - unique for each record\n",
    "# foreign key - relationship can be established between two tables\n",
    "# data redundancy and data integerity- completeness, consistency, and accuracy of data"
   ]
  },
  {
   "cell_type": "code",
   "execution_count": null,
   "metadata": {},
   "outputs": [],
   "source": [
    "# RDBMS - update, delete \n",
    "# sql -- donald chamberlin and R.F. boyce\n",
    "# SQL----Query and manipulate data\n",
    "#       SQL\n",
    "\n",
    "#Data definition language-creating modifying and deleting a table\n",
    "\n",
    "#Data retrieval - query and retrieving data from tables\n",
    "#Data manipulation language - inserting, update and deleting data in table INSERT,DELETE,UPDATE\n",
    "#Transaction control - Changes made by DML statements COMMIT ROLLBACK\n",
    "#Data control\n",
    "#\n",
    "\n",
    "# CRUD - Create retrieve update and delete\n"
   ]
  },
  {
   "cell_type": "code",
   "execution_count": null,
   "metadata": {},
   "outputs": [],
   "source": [
    "\"SQLite\"\n",
    "\"data type - BLOB or Binary Large Object can be used to store any kind of data. The maximum size of BLOBs is unlimited.\"\n",
    "# doesn't need a server\n",
    "# doesn't need configuration\n",
    "# easily connect to databases\n",
    "create table players(Name,Country,Ranking,Speciality);\n",
    "insert into players values(\"M shami\",\"India\",19,\"Bowler\");\n",
    "select * from players;\n"
   ]
  },
  {
   "cell_type": "code",
   "execution_count": null,
   "metadata": {},
   "outputs": [],
   "source": [
    "SQL Statements\n",
    "\n",
    "Constraints - PRIMARY KEY,FOREIGN KEY,NOT NULL\n",
    "\n",
    "INSERT INTO Gryffindor (Name, Year, Quidditch) VALUES (\"Oliver Wood\",5,\"Keeper\");\n",
    "\"The general usage of the INSERT statement is INSERT INTO table (col1, col2, ...) VALUES (val1, val2..).\"\n",
    "\n",
    "See examples of these in detail---\n",
    "\n",
    "CREATE TABLE query\n",
    "INSERT query\n",
    "SELECT query\n",
    "UPDATE query\n",
    "DELETE query"
   ]
  }
 ],
 "metadata": {
  "kernelspec": {
   "display_name": "Python 3",
   "language": "python",
   "name": "python3"
  },
  "language_info": {
   "codemirror_mode": {
    "name": "ipython",
    "version": 3
   },
   "file_extension": ".py",
   "mimetype": "text/x-python",
   "name": "python",
   "nbconvert_exporter": "python",
   "pygments_lexer": "ipython3",
   "version": "3.6.5"
  }
 },
 "nbformat": 4,
 "nbformat_minor": 2
}
