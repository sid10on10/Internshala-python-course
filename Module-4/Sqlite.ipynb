{
 "cells": [
  {
   "cell_type": "code",
   "execution_count": null,
   "metadata": {},
   "outputs": [],
   "source": [
    "#The Python DB-API specifies a standard way to connect to databases and issue commands to them.\n",
    "import sqlite3\n",
    "MySchool=sqlite3.connect('schooltest.db')\n",
    "curschool=MySchool.cursor()#A cursor is a Python object that enables us to work with the database. \n",
    "#It acts as a handle for a given SQL query. It allows retrieval of one or more rows of the result.\n",
    "curschool.execute('''CREATE TABLE student (\n",
    "StudentID INTEGER PRIMARY KEY AUTOINCREMENT,\n",
    "name TEXT (20) NOT NULL,\n",
    "age INTEGER,\n",
    "marks REAL);''')\n",
    "MySchool.close() "
   ]
  },
  {
   "cell_type": "code",
   "execution_count": null,
   "metadata": {},
   "outputs": [],
   "source": [
    "# 4 methods are defined for connection class\n",
    "# cursor() commit() rollback() close()\n",
    "# cursor() -- A python object that enables us to work with the database\n",
    "#             Returns a cursor object which uses this connection\n",
    "#             execute() method of cursor object -- sql queries\n",
    "#commit()  -- Explicitly commit any pending transactions to the database\n",
    "#rollback() -- causes a transaction to be rolled back to the starting point--undo the effect of an SQL query\n",
    "#close()  -- Closes the connection to the database permanently\n"
   ]
  },
  {
   "cell_type": "code",
   "execution_count": null,
   "metadata": {},
   "outputs": [],
   "source": [
    "#Assuming that the database MySchool is created and contains the table student, we start by creating a connection:\n",
    "import sqlite3\n",
    "MySchool=sqlite3.connect('schooltest.db')\n",
    "curschool=MySchool.cursor()\n",
    "# To add a new record to the table, we execute the INSERT query.\n",
    "curschool.execute(\"INSERT INTO student (StudentID, name, house, marks) VALUES (5,'Sherlock',32,50);\")\n",
    "#We now commit the changes to confirm them.\n",
    "MySchool.commit()\n"
   ]
  },
  {
   "cell_type": "code",
   "execution_count": null,
   "metadata": {},
   "outputs": [],
   "source": [
    "#Example 2: To accept user input for the values in the table:\n",
    "import sqlite3\n",
    "MySchool=sqlite3.connect('schooltest.db')\n",
    "curschool=MySchool.cursor()\n",
    "mysid= int(input(\"Enter ID: \"))\n",
    "myname=input(\"Enter name: \")\n",
    "myhouse=int(input(\"Enter house: \"))\n",
    "mymarks=float(input(\"Enter marks: \"))\n",
    "curschool.execute(\"INSERT INTO student (StudentID, name, house, marks) VALUES (?,?,?,?);\", (mysid,myname,myhouse,mymarks))\n",
    "MySchool.commit()"
   ]
  },
  {
   "cell_type": "code",
   "execution_count": null,
   "metadata": {},
   "outputs": [],
   "source": [
    "\"Error handling in Python is done through the use of exceptions that are caught in try blocks and handled in except blocks.\"\n",
    "\"Let us look an example of how this is used. The following code not only accepts a user input and adds a new record but also displays a message if the operation was successful or not.\"\n",
    "import sqlite3\n",
    "MySchool=sqlite3.connect('schooltest.db')\n",
    "    \n",
    "mysid= int(input(\"Enter ID: \"))\n",
    "myname=input(\"Enter name: \")\n",
    "myhouse=int(input(\"Enter house: \"))\n",
    "mymarks=float(input(\"Enter marks: \"))\n",
    "    \n",
    "#try block to catch exceptions\n",
    "try:\n",
    "    curschool=MySchool.cursor()\n",
    "    curschool.execute(\"INSERT INTO student (StudentID, name, house, marks) VALUES (?,?,?,?)\", (mysid, myname, myhouse, mymarks))\n",
    "    MySchool.commit()\n",
    "    print (\"One record added successfully.\")\n",
    "\n",
    "#except block to handle exceptions    \n",
    "except:\n",
    "    print (\"Error in operation.\")\n",
    "    MySchool.rollback()\n",
    "    \n",
    "MySchool.close()"
   ]
  },
  {
   "cell_type": "code",
   "execution_count": null,
   "metadata": {},
   "outputs": [],
   "source": [
    "#This method fetches the next available record from the result set.\n",
    "#It is a tuple consisting of values of each column of the fetched record. The Following code snippet retrieves and prints one record at a time till the result set is exhausted.\"\n",
    "import sqlite3\n",
    "MySchool=sqlite3.connect('schooltest.db')\n",
    "        \n",
    "sql=\"SELECT * from student;\"\n",
    "        \n",
    "curschool=MySchool.cursor()\n",
    "curschool.execute(sql)\n",
    "while True:\n",
    "    record=curschool.fetchone()\n",
    "    if record==None:\n",
    "        break\n",
    "    print (record)"
   ]
  },
  {
   "cell_type": "code",
   "execution_count": null,
   "metadata": {},
   "outputs": [],
   "source": [
    "# This method fetches all the remaining records in the form of a list of tuples. Each tuple corresponds to one record and contains values of each column in the table. \n",
    "#The following code snippet fetches all records and prints them one at a time by using the 'for' statement.\n",
    "import sqlite3\n",
    "MySchool=sqlite3.connect('schooltest.db')\n",
    "\n",
    "sql=\"SELECT * from student;\"\n",
    "        \n",
    "curschool=MySchool.cursor()\n",
    "curschool.execute(sql)\n",
    "\n",
    "result=curschool.fetchall()\n",
    "for record in result:\n",
    "    print (record)"
   ]
  },
  {
   "cell_type": "code",
   "execution_count": null,
   "metadata": {},
   "outputs": [],
   "source": [
    "#Updating a Record - Example\n",
    "import sqlite3\n",
    "MySchool=sqlite3.connect('schooltest.db')\n",
    "            \n",
    "nm=input(\"enter name: \")\n",
    "sql=\"SELECT * from student WHERE name='\"+nm+\"';\"\n",
    "curschool=MySchool.cursor()\n",
    "curschool.execute(sql)\n",
    "record=curschool.fetchone()\n",
    "print (record)\n",
    "m=float(input(\"enter new marks: \"))\n",
    "sql=\"UPDATE student SET marks='\"+str(m)+\"' WHERE name='\"+nm+\"';\"\n",
    "try:\n",
    "    curschool.execute(sql)\n",
    "    MySchool.commit()\n",
    "    print (\"record updated successfully\")\n",
    "except:\n",
    "    print (\"error in update operation\")\n",
    "    MySchool.rollback()"
   ]
  },
  {
   "cell_type": "code",
   "execution_count": null,
   "metadata": {},
   "outputs": [],
   "source": []
  }
 ],
 "metadata": {
  "kernelspec": {
   "display_name": "Python 3",
   "language": "python",
   "name": "python3"
  },
  "language_info": {
   "codemirror_mode": {
    "name": "ipython",
    "version": 3
   },
   "file_extension": ".py",
   "mimetype": "text/x-python",
   "name": "python",
   "nbconvert_exporter": "python",
   "pygments_lexer": "ipython3",
   "version": "3.6.5"
  }
 },
 "nbformat": 4,
 "nbformat_minor": 2
}
