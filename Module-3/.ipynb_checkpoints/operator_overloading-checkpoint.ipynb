{
 "cells": [
  {
   "cell_type": "code",
   "execution_count": 9,
   "metadata": {},
   "outputs": [],
   "source": [
    "class Distance:\n",
    "    def __init__(self,x,y):\n",
    "        self.feet = x\n",
    "        self.inches = y\n",
    "        \n",
    "    def __add__(self,other):\n",
    "        final_feet = self.feet+other.feet\n",
    "        final_inches = self.inches+other.inches\n",
    "        if final_inches >=12:\n",
    "            final_feet = final_feet+1\n",
    "            final_inches = final_inches-12\n",
    "        return Distance(final_feet,final_inches)\n",
    "    \n",
    "    def __str__(self):\n",
    "        return \"Distance:\" + str(self.feet)+ \"feet:\" + str(self.inches)+\"inches\""
   ]
  },
  {
   "cell_type": "code",
   "execution_count": 10,
   "metadata": {},
   "outputs": [
    {
     "name": "stdout",
     "output_type": "stream",
     "text": [
      "Distance:18feet:7inches\n"
     ]
    }
   ],
   "source": [
    "d1 = Distance(9,10)\n",
    "d2 = Distance(8,9)\n",
    "d3 = d1+d2\n",
    "print(d3)"
   ]
  },
  {
   "cell_type": "code",
   "execution_count": null,
   "metadata": {},
   "outputs": [],
   "source": [
    "Operator\n",
    "\n",
    "Method\n",
    "\n",
    "+\n",
    "\n",
    "object.__add__(self, other)\n",
    "\n",
    "-\n",
    "\n",
    "object.__sub__(self, other)\n",
    "\n",
    "*\n",
    "\n",
    "object.__mul__(self, other)\n",
    "\n",
    "//\n",
    "\n",
    "object.__floordiv__(self, other)\n",
    "\n",
    "/\n",
    "\n",
    "object.__div__(self, other)\n",
    "\n",
    "%\n",
    "\n",
    "object.__mod__(self, other)\n",
    "\n",
    "**\n",
    "\n",
    "object.__pow__(self, other[, modulo])\n",
    "\n",
    "<\n",
    "\n",
    "object.__lt__(self, other)\n",
    "\n",
    "<=\n",
    "\n",
    "object.__le__(self, other)\n",
    "\n",
    "==\n",
    "\n",
    "object.__eq__(self, other)\n",
    "\n",
    "!=\n",
    "\n",
    "object.__ne__(self, other)\n",
    "\n",
    ">=\n",
    "\n",
    "object.__ge__(self, other)"
   ]
  }
 ],
 "metadata": {
  "kernelspec": {
   "display_name": "Python 3",
   "language": "python",
   "name": "python3"
  },
  "language_info": {
   "codemirror_mode": {
    "name": "ipython",
    "version": 3
   },
   "file_extension": ".py",
   "mimetype": "text/x-python",
   "name": "python",
   "nbconvert_exporter": "python",
   "pygments_lexer": "ipython3",
   "version": "3.6.5"
  }
 },
 "nbformat": 4,
 "nbformat_minor": 2
}
