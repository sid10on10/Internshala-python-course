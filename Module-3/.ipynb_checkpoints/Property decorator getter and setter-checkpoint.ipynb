{
 "cells": [
  {
   "cell_type": "code",
   "execution_count": 3,
   "metadata": {},
   "outputs": [
    {
     "name": "stdout",
     "output_type": "stream",
     "text": [
      "Nikita\n",
      "Siddhant.Singh@email.com\n",
      "Nikita Singh\n"
     ]
    }
   ],
   "source": [
    "class Employee:\n",
    "    \n",
    "    \n",
    "    def __init__(self, first, last):\n",
    "        self.first = first\n",
    "        self.last = last\n",
    "        self.email = first + '.' + last + \"@email.com\"\n",
    "        \n",
    "        \n",
    "    def fullname(self):\n",
    "        return '{} {}'.format(self.first, self.last)\n",
    "    \n",
    "\n",
    "emp_1 = Employee(\"Siddhant\", \"Singh\")\n",
    "emp_1.first = \"Nikita\"\n",
    "\n",
    "\n",
    "print(emp_1.first)\n",
    "print(emp_1.email)\n",
    "print(emp_1.fullname())"
   ]
  },
  {
   "cell_type": "code",
   "execution_count": 10,
   "metadata": {},
   "outputs": [
    {
     "name": "stdout",
     "output_type": "stream",
     "text": [
      "Nikita\n",
      "<bound method Employee.email of <__main__.Employee object at 0x1048712e8>>\n",
      "Nikita.Singh@email.com\n",
      "Nikita Singh\n"
     ]
    }
   ],
   "source": [
    "class Employee:\n",
    "    \n",
    "    \n",
    "    def __init__(self, first, last):\n",
    "        self.first = first\n",
    "        self.last = last\n",
    "        \n",
    "    \n",
    "    def email(self):\n",
    "        return '{}.{}@email.com'.format(self.first, self.last)    \n",
    "    \n",
    "    \n",
    "    \n",
    "    def fullname(self):\n",
    "        return '{} {}'.format(self.first, self.last)\n",
    "    \n",
    "\n",
    "emp_1 = Employee(\"Siddhant\", \"Singh\")\n",
    "emp_1.first = \"Nikita\"\n",
    "\n",
    "\n",
    "print(emp_1.first)\n",
    "print(emp_1.email)\n",
    "print(emp_1.email())\n",
    "print(emp_1.fullname())"
   ]
  },
  {
   "cell_type": "code",
   "execution_count": 11,
   "metadata": {},
   "outputs": [
    {
     "name": "stdout",
     "output_type": "stream",
     "text": [
      "Nikita\n",
      "Nikita.Singh@email.com\n",
      "Nikita Singh\n"
     ]
    }
   ],
   "source": [
    "class Employee:\n",
    "    \n",
    "    \n",
    "    def __init__(self, first, last):\n",
    "        self.first = first\n",
    "        self.last = last\n",
    "        \n",
    "    @property\n",
    "    def email(self):\n",
    "        return '{}.{}@email.com'.format(self.first, self.last)    \n",
    "    \n",
    "    \n",
    "    \n",
    "    def fullname(self):\n",
    "        return '{} {}'.format(self.first, self.last)\n",
    "    \n",
    "\n",
    "emp_1 = Employee(\"Siddhant\", \"Singh\")\n",
    "emp_1.first = \"Nikita\"\n",
    "\n",
    "\n",
    "print(emp_1.first)\n",
    "print(emp_1.email)\n",
    "print(emp_1.fullname())"
   ]
  },
  {
   "cell_type": "code",
   "execution_count": 12,
   "metadata": {},
   "outputs": [
    {
     "name": "stdout",
     "output_type": "stream",
     "text": [
      "Nikita\n",
      "Nikita.Singh@email.com\n",
      "Nikita Singh\n"
     ]
    }
   ],
   "source": [
    "class Employee:\n",
    "    \n",
    "    \n",
    "    def __init__(self, first, last):\n",
    "        self.first = first\n",
    "        self.last = last\n",
    "        \n",
    "    @property\n",
    "    def email(self):\n",
    "        return '{}.{}@email.com'.format(self.first, self.last)    \n",
    "    \n",
    "    \n",
    "    @property\n",
    "    def fullname(self):\n",
    "        return '{} {}'.format(self.first, self.last)\n",
    "    \n",
    "\n",
    "emp_1 = Employee(\"Siddhant\", \"Singh\")\n",
    "emp_1.first = \"Nikita\"\n",
    "\n",
    "\n",
    "print(emp_1.first)\n",
    "print(emp_1.email)\n",
    "print(emp_1.fullname) # works fine .fullname"
   ]
  },
  {
   "cell_type": "code",
   "execution_count": 13,
   "metadata": {},
   "outputs": [
    {
     "ename": "AttributeError",
     "evalue": "can't set attribute",
     "output_type": "error",
     "traceback": [
      "\u001b[0;31m---------------------------------------------------------------------------\u001b[0m",
      "\u001b[0;31mAttributeError\u001b[0m                            Traceback (most recent call last)",
      "\u001b[0;32m<ipython-input-13-ae137f1eafd2>\u001b[0m in \u001b[0;36m<module>\u001b[0;34m()\u001b[0m\n\u001b[1;32m     17\u001b[0m \u001b[0;34m\u001b[0m\u001b[0m\n\u001b[1;32m     18\u001b[0m \u001b[0memp_1\u001b[0m \u001b[0;34m=\u001b[0m \u001b[0mEmployee\u001b[0m\u001b[0;34m(\u001b[0m\u001b[0;34m\"Siddhant\"\u001b[0m\u001b[0;34m,\u001b[0m \u001b[0;34m\"Singh\"\u001b[0m\u001b[0;34m)\u001b[0m\u001b[0;34m\u001b[0m\u001b[0m\n\u001b[0;32m---> 19\u001b[0;31m \u001b[0memp_1\u001b[0m\u001b[0;34m.\u001b[0m\u001b[0mfullname\u001b[0m \u001b[0;34m=\u001b[0m \u001b[0;34m\"Nikita Singh\"\u001b[0m\u001b[0;34m\u001b[0m\u001b[0m\n\u001b[0m\u001b[1;32m     20\u001b[0m \u001b[0;34m\u001b[0m\u001b[0m\n\u001b[1;32m     21\u001b[0m \u001b[0;34m\u001b[0m\u001b[0m\n",
      "\u001b[0;31mAttributeError\u001b[0m: can't set attribute"
     ]
    }
   ],
   "source": [
    "class Employee:\n",
    "    \n",
    "    \n",
    "    def __init__(self, first, last):\n",
    "        self.first = first\n",
    "        self.last = last\n",
    "        \n",
    "    @property\n",
    "    def email(self):\n",
    "        return '{}.{}@email.com'.format(self.first, self.last)    \n",
    "    \n",
    "    \n",
    "    @property\n",
    "    def fullname(self):\n",
    "        return '{} {}'.format(self.first, self.last)\n",
    "    \n",
    "\n",
    "emp_1 = Employee(\"Siddhant\", \"Singh\")\n",
    "emp_1.fullname = \"Nikita Singh\"\n",
    "\n",
    "\n",
    "print(emp_1.first)\n",
    "print(emp_1.email)\n",
    "print(emp_1.fullname)"
   ]
  },
  {
   "cell_type": "code",
   "execution_count": 16,
   "metadata": {},
   "outputs": [
    {
     "name": "stdout",
     "output_type": "stream",
     "text": [
      "Nikita\n",
      "Nikita.Singh@email.com\n",
      "Nikita Singh\n",
      "Delete Name!\n"
     ]
    }
   ],
   "source": [
    "class Employee:\n",
    "    \n",
    "    \n",
    "    def __init__(self, first, last):\n",
    "        self.first = first\n",
    "        self.last = last\n",
    "        \n",
    "    @property\n",
    "    def email(self):\n",
    "        return '{}.{}@email.com'.format(self.first, self.last)    \n",
    "    \n",
    "    \n",
    "    @property\n",
    "    def fullname(self):\n",
    "        return '{} {}'.format(self.first, self.last)\n",
    "    \n",
    "    \n",
    "    @fullname.setter\n",
    "    def fullname(self, name):\n",
    "        first, last = name.split(' ')\n",
    "        self.first = first \n",
    "        self.last = last\n",
    "    \n",
    "    \n",
    "    @fullname.deleter\n",
    "    def fullname(self):\n",
    "        print(\"Delete Name!\")\n",
    "        self.first = None\n",
    "        self.last = None\n",
    "        \n",
    "\n",
    "emp_1 = Employee(\"Siddhant\", \"Singh\")\n",
    "emp_1.fullname = \"Nikita Singh\"\n",
    "\n",
    "\n",
    "print(emp_1.first)\n",
    "print(emp_1.email)\n",
    "print(emp_1.fullname)\n",
    "\n",
    "del emp_1.fullname"
   ]
  }
 ],
 "metadata": {
  "kernelspec": {
   "display_name": "Python 3",
   "language": "python",
   "name": "python3"
  },
  "language_info": {
   "codemirror_mode": {
    "name": "ipython",
    "version": 3
   },
   "file_extension": ".py",
   "mimetype": "text/x-python",
   "name": "python",
   "nbconvert_exporter": "python",
   "pygments_lexer": "ipython3",
   "version": "3.6.5"
  }
 },
 "nbformat": 4,
 "nbformat_minor": 2
}
