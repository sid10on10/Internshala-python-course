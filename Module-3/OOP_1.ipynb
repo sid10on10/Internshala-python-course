{
 "cells": [
  {
   "cell_type": "code",
   "execution_count": 1,
   "metadata": {},
   "outputs": [],
   "source": [
    "class quadilateral:\n",
    "    def __init__(self,a,b,c,d):\n",
    "        self.side1 = a\n",
    "        self.side2 = b\n",
    "        self.side3 = c\n",
    "        self.side4 = d\n",
    "    \n",
    "    def perimeter(self):\n",
    "        p = self.side1+self.side2+self.side3+self.side4\n",
    "        return(p)"
   ]
  },
  {
   "cell_type": "code",
   "execution_count": 2,
   "metadata": {},
   "outputs": [
    {
     "data": {
      "text/plain": [
       "22"
      ]
     },
     "execution_count": 2,
     "metadata": {},
     "output_type": "execute_result"
    }
   ],
   "source": [
    "q1 = quadilateral(7,5,6,4)\n",
    "q1.perimeter()"
   ]
  },
  {
   "cell_type": "code",
   "execution_count": 3,
   "metadata": {},
   "outputs": [],
   "source": [
    "class rectangle(quadilateral):\n",
    "    def __init__(self,a,b,c=None,d=None):\n",
    "        super().__init__(a,b,c,d)\n",
    "        self.side3 = self.side1\n",
    "        self.side4 = self.side2    "
   ]
  },
  {
   "cell_type": "code",
   "execution_count": 6,
   "metadata": {},
   "outputs": [
    {
     "data": {
      "text/plain": [
       "60"
      ]
     },
     "execution_count": 6,
     "metadata": {},
     "output_type": "execute_result"
    }
   ],
   "source": [
    "r1 = rectangle(10,20)\n",
    "r1.perimeter()"
   ]
  },
  {
   "cell_type": "code",
   "execution_count": 1,
   "metadata": {},
   "outputs": [
    {
     "name": "stdout",
     "output_type": "stream",
     "text": [
      "total salary Rajesh is 9000\n",
      "total salary Kiran is 11000\n"
     ]
    }
   ],
   "source": [
    "class Employee:\n",
    "    def __init__(self,nm,sal):\n",
    "        self.name = nm\n",
    "        self.salary = sal\n",
    "        \n",
    "    def getName(self):\n",
    "        return(self.name)\n",
    "    def getSalary(self):\n",
    "        return(self.salary)\n",
    "    \n",
    "class SalesOfficer(Employee):\n",
    "    def __init__(self,nm,sal,inc):\n",
    "        super().__init__(nm,sal)\n",
    "        self.inct=inc\n",
    "        \n",
    "    def getSalary(self):\n",
    "        return self.salary + self.inct\n",
    "    \n",
    "\n",
    "    \n",
    "e1 = Employee('Rajesh',9000)\n",
    "print(\"total salary {} is {}\".format(e1.getName(),e1.getSalary()))\n",
    "s1 = SalesOfficer(\"Kiran\",10000,1000)\n",
    "print(\"total salary {} is {}\".format(s1.getName(),s1.getSalary()))"
   ]
  },
  {
   "cell_type": "code",
   "execution_count": 9,
   "metadata": {},
   "outputs": [
    {
     "data": {
      "text/plain": [
       "['__class__',\n",
       " '__delattr__',\n",
       " '__dict__',\n",
       " '__dir__',\n",
       " '__doc__',\n",
       " '__eq__',\n",
       " '__format__',\n",
       " '__ge__',\n",
       " '__getattribute__',\n",
       " '__gt__',\n",
       " '__hash__',\n",
       " '__init__',\n",
       " '__init_subclass__',\n",
       " '__le__',\n",
       " '__lt__',\n",
       " '__module__',\n",
       " '__ne__',\n",
       " '__new__',\n",
       " '__reduce__',\n",
       " '__reduce_ex__',\n",
       " '__repr__',\n",
       " '__setattr__',\n",
       " '__sizeof__',\n",
       " '__str__',\n",
       " '__subclasshook__',\n",
       " '__weakref__']"
      ]
     },
     "execution_count": 9,
     "metadata": {},
     "output_type": "execute_result"
    }
   ],
   "source": [
    "#MAGIC METHODS __init__, __str__, __new__\n",
    "# When an object is created, the __new__() method is implicitly called before the __init__() method.\n",
    "class xyz:\n",
    "    pass\n",
    "dir(xyz)"
   ]
  },
  {
   "cell_type": "code",
   "execution_count": 10,
   "metadata": {},
   "outputs": [
    {
     "data": {
      "text/plain": [
       "(object,)"
      ]
     },
     "execution_count": 10,
     "metadata": {},
     "output_type": "execute_result"
    }
   ],
   "source": [
    "xyz.__bases__"
   ]
  },
  {
   "cell_type": "code",
   "execution_count": 11,
   "metadata": {},
   "outputs": [
    {
     "name": "stdout",
     "output_type": "stream",
     "text": [
      "__new__ magic method is executed\n",
      "__init__ magic method is executed\n",
      "Kiran\n"
     ]
    }
   ],
   "source": [
    "class Employee:\n",
    "    def __new__(cls):\n",
    "        print(\"__new__ magic method is executed\")\n",
    "        inst=object.__new__(cls)\n",
    "        return inst\n",
    "    def __init__(self):\n",
    "        print(\"__init__ magic method is executed\")\n",
    "        self.name = \"Kiran\"\n",
    "        \n",
    "e1 = Employee()\n",
    "print(e1.name)\n",
    "# When an object is created, the __new__() method is implicitly called before the __init__() method."
   ]
  },
  {
   "cell_type": "code",
   "execution_count": 12,
   "metadata": {},
   "outputs": [
    {
     "data": {
      "text/plain": [
       "'12'"
      ]
     },
     "execution_count": 12,
     "metadata": {},
     "output_type": "execute_result"
    }
   ],
   "source": [
    "a=12\n",
    "str(12)"
   ]
  },
  {
   "cell_type": "code",
   "execution_count": 13,
   "metadata": {},
   "outputs": [
    {
     "data": {
      "text/plain": [
       "'12'"
      ]
     },
     "execution_count": 13,
     "metadata": {},
     "output_type": "execute_result"
    }
   ],
   "source": [
    "# this is equivalent to\n",
    "int.__str__(a)"
   ]
  },
  {
   "cell_type": "code",
   "execution_count": 17,
   "metadata": {},
   "outputs": [
    {
     "name": "stdout",
     "output_type": "stream",
     "text": [
      "Name=Kiran Salary=10000\n"
     ]
    }
   ],
   "source": [
    "class Employee:\n",
    "    def __init__(self):\n",
    "        self.name=\"Kiran\"\n",
    "        self.salary=\"10000\"\n",
    "    def __str__(self):\n",
    "        return \"Name=\"+self.name+\" Salary=\"+str(self.salary)\n",
    "    \n",
    "e1 = Employee()\n",
    "print(e1)\n",
    "#The __str__() method returns a printable string representation of any user defined class"
   ]
  },
  {
   "cell_type": "code",
   "execution_count": null,
   "metadata": {},
   "outputs": [],
   "source": []
  }
 ],
 "metadata": {
  "kernelspec": {
   "display_name": "Python 3",
   "language": "python",
   "name": "python3"
  },
  "language_info": {
   "codemirror_mode": {
    "name": "ipython",
    "version": 3
   },
   "file_extension": ".py",
   "mimetype": "text/x-python",
   "name": "python",
   "nbconvert_exporter": "python",
   "pygments_lexer": "ipython3",
   "version": "3.6.5"
  }
 },
 "nbformat": 4,
 "nbformat_minor": 2
}
