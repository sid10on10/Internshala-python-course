{
 "cells": [
  {
   "cell_type": "markdown",
   "metadata": {},
   "source": [
    "# Functions\n",
    "Here we will be adding new useful functions or builtins in a glance.\n",
    "\n",
    "### Absolute Value\n",
    "\n",
    "The built-in function abs() will return the absolute value of a number that you pass to it. In mathematics, absolute value refers to the distance that a number is on the number line from 0. Absolute value does not take into consideration which direction from zero the number lies, meaning that negative numbers will be represented with positive numbers.\n",
    "\n",
    "To give some examples, the absolute value of 15 is 15, the absolute value of -74 is 74, and the absolute value of 0 is 0.\n",
    "\n",
    "Absolute value is an important concept for calculus and real analysis, but it also makes sense when we think about everyday situations like distance travelled. For example, if we are trying to get somewhere that is 58 miles away but we travel 93 miles instead, we overshot our original destination. If we want to calculate now how many miles left to travel to get to the intended destination, we’ll end up with a negative number, but we can’t travel negative miles.\n",
    "\n",
    "Let’s use abs() to solve this problem:"
   ]
  },
  {
   "cell_type": "code",
   "execution_count": 1,
   "metadata": {},
   "outputs": [
    {
     "name": "stdout",
     "output_type": "stream",
     "text": [
      "-35\n",
      "35\n"
     ]
    }
   ],
   "source": [
    "miles_from_origin = 58  # Miles destination is from origin\n",
    "miles_travelled = 93    # Miles travelled from origin to destination (too many)\n",
    "\n",
    "### Calculate how many miles destination is from current location:\n",
    "miles_to_go = miles_from_origin - miles_travelled   \n",
    "\n",
    "print(miles_to_go)      # Print how many miles left (a negative number)\n",
    "print(abs(miles_to_go))"
   ]
  },
  {
   "cell_type": "markdown",
   "metadata": {},
   "source": [
    "### Finding the Quotient and Remainder in One Function | divmod\n",
    "\n",
    "Because both floor division (which returns a quotient), and modulo division (which returns a remainder), are closely related, it can be useful to use a function that combines both operations at once.\n",
    "\n",
    "The Python built-in function divmod() combines the two, returning first the quotient that comes from floor division, then the remainder.\n",
    "\n",
    "Because divmod() will be working with two numbers, we need to pass two numbers to it.\n",
    "\n",
    "divmod(a,b)\n",
    "\n",
    "With this function we are basically performing the following:\n",
    "\n",
    "a // b\n",
    "\n",
    "a & b\n",
    "\n",
    "\n",
    "Let’s say we have written a book that is 80,000 words long. With our publisher, we have the option of either 300 or 250 words per page, and we’d like to get a sense of how many pages we would have in each case. With divmod() we can see immediately how many pages we would have, and how many words would be spilled over onto an additional page."
   ]
  },
  {
   "cell_type": "code",
   "execution_count": 2,
   "metadata": {},
   "outputs": [
    {
     "name": "stdout",
     "output_type": "stream",
     "text": [
      "(266, 200)\n",
      "(320, 0)\n"
     ]
    }
   ],
   "source": [
    "\n",
    "words = 80000       # How many words in our book\n",
    "per_page_A = 300    # Option A, 300 words per page\n",
    "per_page_B = 250    # Option B, 25- words per page\n",
    "\n",
    "print(divmod(words,per_page_A)) # Calculate Option A\n",
    "print(divmod(words,per_page_B)) # Calculate Option B"
   ]
  },
  {
   "cell_type": "code",
   "execution_count": 3,
   "metadata": {},
   "outputs": [
    {
     "name": "stdout",
     "output_type": "stream",
     "text": [
      "(8.0, 63.5)\n"
     ]
    }
   ],
   "source": [
    "a = 985.5\n",
    "b = 115.25\n",
    "\n",
    "print(divmod(a,b))"
   ]
  },
  {
   "cell_type": "code",
   "execution_count": 4,
   "metadata": {},
   "outputs": [
    {
     "name": "stdout",
     "output_type": "stream",
     "text": [
      "8.0\n",
      "63.5\n"
     ]
    }
   ],
   "source": [
    "print(a//b)\n",
    "print(a%b)"
   ]
  },
  {
   "cell_type": "markdown",
   "metadata": {},
   "source": [
    "### Power\n",
    "\n",
    "To see how the pow() function works, let’s say we are doing research on bacteria and want to see how many bacteria we’ll have at the end of the day if we start with 1. The particular bacteria we’re working with doubles each hour, so we’ll be calculating 2 (doubling) to the power of the total number of hours (24 in our case)."
   ]
  },
  {
   "cell_type": "code",
   "execution_count": 5,
   "metadata": {},
   "outputs": [
    {
     "name": "stdout",
     "output_type": "stream",
     "text": [
      "16777216\n"
     ]
    }
   ],
   "source": [
    "hours = 24\n",
    "total_bacteria = pow(2,hours)\n",
    "\n",
    "print(total_bacteria)"
   ]
  },
  {
   "cell_type": "markdown",
   "metadata": {},
   "source": [
    "### Rounding numbers"
   ]
  },
  {
   "cell_type": "code",
   "execution_count": 6,
   "metadata": {},
   "outputs": [
    {
     "name": "stdout",
     "output_type": "stream",
     "text": [
      "17.3499\n"
     ]
    }
   ],
   "source": [
    "i = 17.34989436516001\n",
    "print(round(i,4))"
   ]
  },
  {
   "cell_type": "markdown",
   "metadata": {},
   "source": [
    "### calculating a sum \n",
    "\n",
    "The sum() function is used for calculating sums of numeric compound data types, including lists, tuples, and dictionaries.\n",
    "\n",
    "We can pass a list to the sum() function to add all the items in the list together in order from left to right:"
   ]
  },
  {
   "cell_type": "code",
   "execution_count": 7,
   "metadata": {},
   "outputs": [
    {
     "name": "stdout",
     "output_type": "stream",
     "text": [
      "49.5\n"
     ]
    }
   ],
   "source": [
    "some_floats = [1.1, 2.2, 3.3, 4.4, 5.5, 6.6, 7.7, 8.8, 9.9]\n",
    "print(sum(some_floats))"
   ]
  },
  {
   "cell_type": "code",
   "execution_count": 8,
   "metadata": {},
   "outputs": [
    {
     "name": "stdout",
     "output_type": "stream",
     "text": [
      "600\n",
      "-60\n"
     ]
    }
   ],
   "source": [
    "print(sum((8,16,64,512)))   # Calculate sum of numbers in tuple\n",
    "print(sum({-10: 'x', -20: 'y', -30: 'z'}))  # Calculate sum of numbers in dictionary "
   ]
  },
  {
   "cell_type": "code",
   "execution_count": 9,
   "metadata": {},
   "outputs": [
    {
     "name": "stdout",
     "output_type": "stream",
     "text": [
      "50.0\n",
      "0\n"
     ]
    }
   ],
   "source": [
    "some_floats = [1.1, 2.2, 3.3, 4.4, 5.5, 6.6, 7.7, 8.8, 9.9]\n",
    "\n",
    "print(sum(some_floats, 0.5))\n",
    "print(sum({-10: 'x', -20: 'y', -30: 'z'},60))"
   ]
  },
  {
   "cell_type": "code",
   "execution_count": null,
   "metadata": {},
   "outputs": [],
   "source": []
  }
 ],
 "metadata": {
  "kernelspec": {
   "display_name": "Python 3",
   "language": "python",
   "name": "python3"
  },
  "language_info": {
   "codemirror_mode": {
    "name": "ipython",
    "version": 3
   },
   "file_extension": ".py",
   "mimetype": "text/x-python",
   "name": "python",
   "nbconvert_exporter": "python",
   "pygments_lexer": "ipython3",
   "version": "3.6.5"
  }
 },
 "nbformat": 4,
 "nbformat_minor": 2
}
